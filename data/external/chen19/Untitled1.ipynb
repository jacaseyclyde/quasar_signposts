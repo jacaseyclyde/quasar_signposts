{
 "cells": [
  {
   "cell_type": "code",
   "execution_count": 1,
   "id": "5f4391c0-f25f-4592-8c45-23a221b47241",
   "metadata": {},
   "outputs": [],
   "source": [
    "import numpy as np\n",
    "import matplotlib.pyplot as plt"
   ]
  },
  {
   "cell_type": "code",
   "execution_count": null,
   "id": "65feb2e4-aaae-49de-9456-6f6b25b95d0f",
   "metadata": {},
   "outputs": [],
   "source": [
    "def F_ecc(e):\n",
    "    num = 1 + (73 / 24) * np.power(e, 2) + (37 / 96) * np.power(e, 4)"
   ]
  }
 ],
 "metadata": {
  "kernelspec": {
   "display_name": "Python 3 (ipykernel)",
   "language": "python",
   "name": "python3"
  },
  "language_info": {
   "codemirror_mode": {
    "name": "ipython",
    "version": 3
   },
   "file_extension": ".py",
   "mimetype": "text/x-python",
   "name": "python",
   "nbconvert_exporter": "python",
   "pygments_lexer": "ipython3",
   "version": "3.9.13"
  }
 },
 "nbformat": 4,
 "nbformat_minor": 5
}
