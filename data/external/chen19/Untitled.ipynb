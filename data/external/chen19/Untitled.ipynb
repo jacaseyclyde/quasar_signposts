{
 "cells": [
  {
   "cell_type": "code",
   "execution_count": 2,
   "id": "f7df60e4-c62a-4901-bb74-f481b253fada",
   "metadata": {},
   "outputs": [],
   "source": [
    "from astroquery.simbad import Simbad"
   ]
  },
  {
   "cell_type": "code",
   "execution_count": 17,
   "id": "d880f87f-6713-4ec3-bfbb-9009a6cf3f0b",
   "metadata": {},
   "outputs": [
    {
     "name": "stdout",
     "output_type": "stream",
     "text": [
      "                                                                                                                                                                                                          References                                                                                                                                                                                                         \n",
      "-----------------------------------------------------------------------------------------------------------------------------------------------------------------------------------------------------------------------------------------------------------------------------------------------------------------------------------------------------------------------------------------------------------------------------\n",
      "2015MNRAS.453.1562G = DOI 10.1093/mnras/stv1726\\nMon. Not. R. Astron. Soc., 453, 1562-1576 (2015/October-3)\\nGRAHAM M.J., DJORGOVSKI S.G., STERN D., DRAKE A.J., MAHABAL A.A., DONALEK C., GLIKMAN E., LARSON S. and CHRISTENSEN E.\\nA systematic search for close supermassive black hole binaries in the Catalina Real-time Transient Survey.\\nFiles: (abstract)(no object)\\nNotes: <Available at CDS: table2.dat images/*>\n"
     ]
    }
   ],
   "source": [
    "result_table = Simbad.query_bibcode('2015MNRAS.453.1562G')\n",
    "# result_table = Simbad.query_bibcode('2005A&A.430.165F')\n",
    "# result_table = Simbad.query_bibobj('2006AJ....131.1163S')\n",
    "\n",
    "print(result_table)"
   ]
  },
  {
   "cell_type": "code",
   "execution_count": 15,
   "id": "c7ed0171-f963-48f0-a50b-a9f846c49f54",
   "metadata": {},
   "outputs": [
    {
     "data": {
      "text/html": [
       "<div>\n",
       "<style scoped>\n",
       "    .dataframe tbody tr th:only-of-type {\n",
       "        vertical-align: middle;\n",
       "    }\n",
       "\n",
       "    .dataframe tbody tr th {\n",
       "        vertical-align: top;\n",
       "    }\n",
       "\n",
       "    .dataframe thead th {\n",
       "        text-align: right;\n",
       "    }\n",
       "</style>\n",
       "<table border=\"1\" class=\"dataframe\">\n",
       "  <thead>\n",
       "    <tr style=\"text-align: right;\">\n",
       "      <th></th>\n",
       "      <th>References</th>\n",
       "    </tr>\n",
       "  </thead>\n",
       "  <tbody>\n",
       "    <tr>\n",
       "      <th>0</th>\n",
       "      <td>2015MNRAS.453.1562G = DOI 10.1093/mnras/stv172...</td>\n",
       "    </tr>\n",
       "  </tbody>\n",
       "</table>\n",
       "</div>"
      ],
      "text/plain": [
       "                                          References\n",
       "0  2015MNRAS.453.1562G = DOI 10.1093/mnras/stv172..."
      ]
     },
     "execution_count": 15,
     "metadata": {},
     "output_type": "execute_result"
    }
   ],
   "source": [
    "import pandas as pd\n",
    "result_table.to_pandas()"
   ]
  },
  {
   "cell_type": "code",
   "execution_count": null,
   "id": "2669b88b-c0f8-4fbc-a6d4-322d7cbfbd23",
   "metadata": {},
   "outputs": [],
   "source": []
  }
 ],
 "metadata": {
  "kernelspec": {
   "display_name": "Python 3 (ipykernel)",
   "language": "python",
   "name": "python3"
  },
  "language_info": {
   "codemirror_mode": {
    "name": "ipython",
    "version": 3
   },
   "file_extension": ".py",
   "mimetype": "text/x-python",
   "name": "python",
   "nbconvert_exporter": "python",
   "pygments_lexer": "ipython3",
   "version": "3.9.13"
  }
 },
 "nbformat": 4,
 "nbformat_minor": 5
}
